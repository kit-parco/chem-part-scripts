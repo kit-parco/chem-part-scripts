{
 "cells": [
  {
   "cell_type": "code",
   "execution_count": 1,
   "metadata": {
    "collapsed": false
   },
   "outputs": [
    {
     "name": "stdout",
     "output_type": "stream",
     "text": [
      " WARNING: module 'sklearn' not found, supervised link prediction won't be available \n"
     ]
    },
    {
     "name": "stderr",
     "output_type": "stream",
     "text": [
      "/usr/local/lib/python3.4/dist-packages/matplotlib/backends/backend_gtk3agg.py:18: UserWarning: The Gtk3Agg backend is known to not work on Python 3.x with pycairo. Try installing cairocffi.\n",
      "  \"The Gtk3Agg backend is known to not work on Python 3.x with pycairo. \"\n"
     ]
    },
    {
     "data": {
      "text/html": [
       "\n",
       "\t\t\t<script type=\"text/javascript\">\n",
       "\t\t\t<!--\n",
       "\t\t\t\t\n",
       "\t\t\t{\n",
       "\t\t\t\tvar element = document.getElementById('NetworKit_script');\n",
       "\t\t\t\tif (element) {\n",
       "\t\t\t\t\telement.parentNode.removeChild(element);\n",
       "\t\t\t\t}\n",
       "\t\t\t\telement = document.createElement('script');\n",
       "\t\t\t\telement.type = 'text/javascript';\n",
       "\t\t\t\telement.innerHTML = 'function NetworKit_pageEmbed(id) { var i, j; var elements; elements = document.getElementById(id).getElementsByClassName(\"Plot\"); for (i=0; i<elements.length; i++) { elements[i].id = id + \"_Plot_\" + i; var data = elements[i].getAttribute(\"data-image\").split(\"|\"); elements[i].removeAttribute(\"data-image\"); var content = \"<div class=\\\\\"Image\\\\\" id=\\\\\"\" + elements[i].id + \"_Image\\\\\" />\"; elements[i].innerHTML = content; elements[i].setAttribute(\"data-image-index\", 0); elements[i].setAttribute(\"data-image-length\", data.length); for (j=0; j<data.length; j++) { elements[i].setAttribute(\"data-image-\" + j, data[j]); } NetworKit_plotUpdate(elements[i]); elements[i].onclick = function (e) { NetworKit_overlayShow((e.target) ? e.target : e.srcElement); } } elements = document.getElementById(id).getElementsByClassName(\"HeatCell\"); for (i=0; i<elements.length; i++) { var data = parseFloat(elements[i].getAttribute(\"data-heat\")); var color = \"#00FF00\"; if (data <= 1 && data > 0) { color = \"hsla(0, 100%, 75%, \" + (data) + \")\"; } else if (data <= 0 && data >= -1) { color = \"hsla(240, 100%, 75%, \" + (-data) + \")\"; } elements[i].style.backgroundColor = color; } elements = document.getElementById(id).getElementsByClassName(\"Details\"); for (i=0; i<elements.length; i++) { elements[i].setAttribute(\"data-title\", \"-\"); NetworKit_toggleDetails(elements[i]); elements[i].onclick = function (e) { NetworKit_toggleDetails((e.target) ? e.target : e.srcElement); } } elements = document.getElementById(id).getElementsByClassName(\"MathValue\"); for (i=elements.length-1; i>=0; i--) { value = elements[i].innerHTML.trim(); if (value === \"nan\") { elements[i].parentNode.innerHTML = \"\" } } elements = document.getElementById(id).getElementsByClassName(\"SubCategory\"); for (i=elements.length-1; i>=0; i--) { value = elements[i].innerHTML.trim(); if (value === \"\") { elements[i].parentNode.removeChild(elements[i]) } } elements = document.getElementById(id).getElementsByClassName(\"Category\"); for (i=elements.length-1; i>=0; i--) { value = elements[i].innerHTML.trim(); if (value === \"\") { elements[i].parentNode.removeChild(elements[i]) } } var isFirefox = false; try { isFirefox = typeof InstallTrigger !== \"undefined\"; } catch (e) {} if (!isFirefox) { alert(\"Currently the function\\'s output is only fully supported by Firefox.\"); } } function NetworKit_plotUpdate(source) { var index = source.getAttribute(\"data-image-index\"); var data = source.getAttribute(\"data-image-\" + index); var image = document.getElementById(source.id + \"_Image\"); image.style.backgroundImage = \"url(\" + data + \")\"; } function NetworKit_showElement(id, show) { var element = document.getElementById(id); element.style.display = (show) ? \"block\" : \"none\"; } function NetworKit_overlayShow(source) { NetworKit_overlayUpdate(source); NetworKit_showElement(\"NetworKit_Overlay\", true); } function NetworKit_overlayUpdate(source) { document.getElementById(\"NetworKit_Overlay_Title\").innerHTML = source.title; var index = source.getAttribute(\"data-image-index\"); var data = source.getAttribute(\"data-image-\" + index); var image = document.getElementById(\"NetworKit_Overlay_Image\"); image.setAttribute(\"data-id\", source.id); image.style.backgroundImage = \"url(\" + data + \")\"; var link = document.getElementById(\"NetworKit_Overlay_Toolbar_Bottom_Save\"); link.href = data; link.download = source.title + \".svg\"; } function NetworKit_overlayImageShift(delta) { var image = document.getElementById(\"NetworKit_Overlay_Image\"); var source = document.getElementById(image.getAttribute(\"data-id\")); var index = parseInt(source.getAttribute(\"data-image-index\")); var length = parseInt(source.getAttribute(\"data-image-length\")); var index = (index+delta) % length; if (index < 0) { index = length + index; } source.setAttribute(\"data-image-index\", index); NetworKit_overlayUpdate(source); } function NetworKit_toggleDetails(source) { var childs = source.children; var show = false; if (source.getAttribute(\"data-title\") == \"-\") { source.setAttribute(\"data-title\", \"+\"); show = false; } else { source.setAttribute(\"data-title\", \"-\"); show = true; } for (i=0; i<childs.length; i++) { if (show) { childs[i].style.display = \"block\"; } else { childs[i].style.display = \"none\"; } } }';\n",
       "\t\t\t\telement.setAttribute('id', 'NetworKit_script');\n",
       "\t\t\t\tdocument.head.appendChild(element);\n",
       "\t\t\t}\n",
       "\t\t\n",
       "\t\t\t\t\n",
       "\t\t\t{\n",
       "\t\t\t\tvar element = document.getElementById('NetworKit_style');\n",
       "\t\t\t\tif (element) {\n",
       "\t\t\t\t\telement.parentNode.removeChild(element);\n",
       "\t\t\t\t}\n",
       "\t\t\t\telement = document.createElement('style');\n",
       "\t\t\t\telement.type = 'text/css';\n",
       "\t\t\t\telement.innerHTML = '.NetworKit_Page { font-family: Arial, Helvetica, sans-serif; font-size: 14px; } .NetworKit_Page .Value:before { font-family: Arial, Helvetica, sans-serif; font-size: 1.05em; content: attr(data-title) \":\"; margin-left: -2.5em; padding-right: 0.5em; } .NetworKit_Page .Details .Value:before { display: block; } .NetworKit_Page .Value { font-family: monospace; white-space: pre; padding-left: 2.5em; white-space: -moz-pre-wrap !important; white-space: -pre-wrap; white-space: -o-pre-wrap; white-space: pre-wrap; word-wrap: break-word; tab-size: 4; -moz-tab-size: 4; } .NetworKit_Page .Category { clear: both; padding-left: 1em; margin-bottom: 1.5em; } .NetworKit_Page .Category:before { content: attr(data-title); font-size: 1.75em; display: block; margin-left: -0.8em; margin-bottom: 0.5em; } .NetworKit_Page .SubCategory { margin-bottom: 1.5em; padding-left: 1em; } .NetworKit_Page .SubCategory:before { font-size: 1.6em; display: block; margin-left: -0.8em; margin-bottom: 0.5em; } .NetworKit_Page .SubCategory[data-title]:before { content: attr(data-title); } .NetworKit_Page .Block { display: block; } .NetworKit_Page .Block:after { content: \".\"; visibility: hidden; display: block; height: 0; clear: both; } .NetworKit_Page .Block .Thumbnail_Overview, .NetworKit_Page .Block .Thumbnail_ScatterPlot { width: 260px; float: left; } .NetworKit_Page .Block .Thumbnail_Overview img, .NetworKit_Page .Block .Thumbnail_ScatterPlot img { width: 260px; } .NetworKit_Page .Block .Thumbnail_Overview:before, .NetworKit_Page .Block .Thumbnail_ScatterPlot:before { display: block; text-align: center; font-weight: bold; } .NetworKit_Page .Block .Thumbnail_Overview:before { content: attr(data-title); } .NetworKit_Page .HeatCell { font-family: \"Courier New\", Courier, monospace; cursor: pointer; } .NetworKit_Page .HeatCell, .NetworKit_Page .HeatCellName { display: inline; padding: 0.1em; margin-right: 2px; background-color: #FFFFFF } .NetworKit_Page .HeatCellName { margin-left: 0.25em; } .NetworKit_Page .HeatCell:before { content: attr(data-heat); display: inline-block; color: #000000; width: 4em; text-align: center; } .NetworKit_Page .Measure { clear: both; } .NetworKit_Page .Measure .Details { cursor: pointer; } .NetworKit_Page .Measure .Details:before { content: \"[\" attr(data-title) \"]\"; display: block; } .NetworKit_Page .Measure .Details .Value { border-left: 1px dotted black; margin-left: 0.4em; padding-left: 3.5em; pointer-events: none; } .NetworKit_Page .Measure .Details .Spacer:before { content: \".\"; opacity: 0.0; pointer-events: none; } .NetworKit_Page .Measure .Plot { width: 440px; height: 440px; cursor: pointer; float: left; margin-left: -0.9em; margin-right: 20px; } .NetworKit_Page .Measure .Plot .Image { background-repeat: no-repeat; background-position: center center; background-size: contain; height: 100%; pointer-events: none; } .NetworKit_Page .Measure .Stat { width: 500px; float: left; } .NetworKit_Page .Measure .Stat .Group { padding-left: 1.25em; margin-bottom: 0.75em; } .NetworKit_Page .Measure .Stat .Group .Title { font-size: 1.1em; display: block; margin-bottom: 0.3em; margin-left: -0.75em; border-right-style: dotted; border-right-width: 1px; border-bottom-style: dotted; border-bottom-width: 1px; background-color: #D0D0D0; padding-left: 0.2em; } .NetworKit_Page .Measure .Stat .Group .List { -webkit-column-count: 3; -moz-column-count: 3; column-count: 3; } .NetworKit_Page .Measure .Stat .Group .List .Entry { position: relative; line-height: 1.75em; } .NetworKit_Page .Measure .Stat .Group .List .Entry[data-tooltip]:before { position: absolute; left: 0; top: -40px; background-color: #808080; color: #ffffff; height: 30px; line-height: 30px; border-radius: 5px; padding: 0 15px; content: attr(data-tooltip); white-space: nowrap; display: none; } .NetworKit_Page .Measure .Stat .Group .List .Entry[data-tooltip]:after { position: absolute; left: 15px; top: -10px; border-top: 7px solid #808080; border-left: 7px solid transparent; border-right: 7px solid transparent; content: \"\"; display: none; } .NetworKit_Page .Measure .Stat .Group .List .Entry[data-tooltip]:hover:after, .NetworKit_Page .Measure .Stat .Group .List .Entry[data-tooltip]:hover:before { display: block; } .NetworKit_Page .Measure .Stat .Group .List .Entry .MathValue { font-family: \"Courier New\", Courier, monospace; } .NetworKit_Page .Measure:after { content: \".\"; visibility: hidden; display: block; height: 0; clear: both; } .NetworKit_Page .PartitionPie { clear: both; } .NetworKit_Page .PartitionPie img { width: 600px; } #NetworKit_Overlay { left: 0px; top: 0px; display: none; position: absolute; width: 100%; height: 100%; background-color: rgba(0,0,0,0.6); z-index: 1000; } #NetworKit_Overlay_Title { position: absolute; color: white; transform: rotate(-90deg); width: 32em; height: 32em; padding-right: 0.5em; padding-top: 0.5em; text-align: right; font-size: 40px; } #NetworKit_Overlay .button { background: white; cursor: pointer; } #NetworKit_Overlay .button:before { size: 13px; display: inline-block; text-align: center; margin-top: 0.5em; margin-bottom: 0.5em; width: 1.5em; height: 1.5em; } #NetworKit_Overlay .icon-close:before { content: \"X\"; } #NetworKit_Overlay .icon-previous:before { content: \"P\"; } #NetworKit_Overlay .icon-next:before { content: \"N\"; } #NetworKit_Overlay .icon-save:before { content: \"S\"; } #NetworKit_Overlay_Toolbar_Top, #NetworKit_Overlay_Toolbar_Bottom { position: absolute; width: 40px; right: 13px; text-align: right; z-index: 1100; } #NetworKit_Overlay_Toolbar_Top { top: 0.5em; } #NetworKit_Overlay_Toolbar_Bottom { Bottom: 0.5em; } #NetworKit_Overlay_ImageContainer { position: absolute; top: 5%; left: 5%; height: 90%; width: 90%; background-repeat: no-repeat; background-position: center center; background-size: contain; } #NetworKit_Overlay_Image { height: 100%; width: 100%; background-repeat: no-repeat; background-position: center center; background-size: contain; }';\n",
       "\t\t\t\telement.setAttribute('id', 'NetworKit_style');\n",
       "\t\t\t\tdocument.head.appendChild(element);\n",
       "\t\t\t}\n",
       "\t\t\n",
       "\t\t\t\t\n",
       "\t\t\t{\n",
       "\t\t\t\tvar element = document.getElementById('NetworKit_Overlay');\n",
       "\t\t\t\tif (element) {\n",
       "\t\t\t\t\telement.parentNode.removeChild(element);\n",
       "\t\t\t\t}\n",
       "\t\t\t\telement = document.createElement('div');\n",
       "\t\t\t\telement.innerHTML = '<div id=\"NetworKit_Overlay_Toolbar_Top\"><div class=\"button icon-close\" id=\"NetworKit_Overlay_Close\" /></div><div id=\"NetworKit_Overlay_Title\" /> <div id=\"NetworKit_Overlay_ImageContainer\"> <div id=\"NetworKit_Overlay_Image\" /> </div> <div id=\"NetworKit_Overlay_Toolbar_Bottom\"> <div class=\"button icon-previous\" onclick=\"NetworKit_overlayImageShift(-1)\" /> <div class=\"button icon-next\" onclick=\"NetworKit_overlayImageShift(1)\" /> <a id=\"NetworKit_Overlay_Toolbar_Bottom_Save\"><div class=\"button icon-save\" /></a> </div>';\n",
       "\t\t\t\telement.setAttribute('id', 'NetworKit_Overlay');\n",
       "\t\t\t\tdocument.body.appendChild(element);\n",
       "\t\t\t\tdocument.getElementById('NetworKit_Overlay_Close').onclick = function (e) {\n",
       "\t\t\t\t\tdocument.getElementById('NetworKit_Overlay').style.display = 'none';\n",
       "\t\t\t\t}\n",
       "\t\t\t}\n",
       "\t\t\n",
       "\t\t\t-->\n",
       "\t\t\t</script>\n",
       "\t\t"
      ]
     },
     "metadata": {},
     "output_type": "display_data"
    }
   ],
   "source": [
    "# %load DynPartitioner.py\n",
    "from networkit import *\n",
    "import math, sys"
   ]
  },
  {
   "cell_type": "code",
   "execution_count": 2,
   "metadata": {
    "collapsed": false
   },
   "outputs": [],
   "source": [
    "%matplotlib inline"
   ]
  },
  {
   "cell_type": "code",
   "execution_count": 3,
   "metadata": {
    "collapsed": true
   },
   "outputs": [],
   "source": [
    "import matplotlib.pyplot as plt"
   ]
  },
  {
   "cell_type": "code",
   "execution_count": 4,
   "metadata": {
    "collapsed": true
   },
   "outputs": [],
   "source": [
    "def continuousPartition(G, X, tolerance, k=0, isCharged={}):\n",
    "    # validate input\n",
    "    n = G.numberOfNodes()\n",
    "    if len(isCharged) > 0:\n",
    "        assert(len(isCharged)==n)\n",
    "        if k > 0:\n",
    "            assert(sum(isCharged) <= k)\n",
    "    else:\n",
    "        isCharged = [False for i in range(n)]\n",
    "    assert(X > 0)\n",
    "    assert(tolerance >= 0)\n",
    "    if (n % X > 0 or (k>0 and k*X != n)) and tolerance == 0:\n",
    "        if (k > 0):\n",
    "            print(\"Creating\", k, \"partitions of size\", X, \"from a graph with\", n, \" nodes and tolerance 0 is impossible.\")\n",
    "        else:\n",
    "            print(\"Creating partitions of size\", X, \"from a graph with\", n, \" nodes and tolerance 0 is impossible.\")\n",
    "        print(\"Set tolerance to 1.\")\n",
    "        tolerance = 1\n",
    "        \n",
    "    if k > 0:\n",
    "        assert(n <= (X + tolerance)*k)\n",
    "        assert(n >= (X - tolerance)*k)\n",
    "        \n",
    "    maxNumberOfPartitions = int(n / max(X - tolerance, 1)) if (k == 0) else k\n",
    "    \n",
    "    def w(i):\n",
    "        \"\"\"\n",
    "        Weight of cutting after node i.\n",
    "        TODO: consider other weights beside the single cut edge\n",
    "        \"\"\"\n",
    "        assert(i >= 0)\n",
    "        assert(i < n)\n",
    "        if (i == n-1):\n",
    "            return 0\n",
    "        else:\n",
    "            return G.weight(i,i+1)\n",
    "    \n",
    "    # allocate cut and predecessor table\n",
    "    table = [[float(\"inf\") for j in range(maxNumberOfPartitions)] for i in range(n)]\n",
    "    pred = [[-1 for j in range(maxNumberOfPartitions)] for i in range(n)]\n",
    "    \n",
    "    # fill table \n",
    "    for i in range(n):\n",
    "        for j in range(maxNumberOfPartitions):\n",
    "            if (j == 0):\n",
    "                if abs(i+1-X) <= tolerance:\n",
    "                    table[i][j] = w(i)\n",
    "            elif (i >= (X-tolerance)):\n",
    "                windowStart = max(i-(X+tolerance),0)\n",
    "                \n",
    "                # make sure that no two charged nodes are in the same partition\n",
    "                chargeEncountered = False\n",
    "                for l in reversed(range(windowStart, i+1)):\n",
    "                    assert(l >= windowStart)\n",
    "                    if isCharged[l]:\n",
    "                        if chargeEncountered:\n",
    "                            windowStart = l\n",
    "                            break\n",
    "                        else:\n",
    "                            chargeEncountered = True\n",
    "                \n",
    "                predList = [table[l][j-1] for l in range(windowStart, min(i,i-(X-tolerance)+1))]\n",
    "                if (len(predList) > 0):\n",
    "                    minPred = min(predList)\n",
    "                    table[i][j] = minPred + w(i)\n",
    "                    pred[i][j] = predList.index(minPred) + windowStart\n",
    "                    \n",
    "    #for i in range(n):\n",
    "    #    row = table[i]\n",
    "    #    print(i, ': [',end=\"\")\n",
    "    #    for elem in row:\n",
    "    #        if math.isinf(elem):\n",
    "    #            print(\"inf, \", end=\"\")\n",
    "    #        else:\n",
    "    #            print(int(elem*100)/100, \", \", end=\"\")\n",
    "    #    print(\"]\")\n",
    "                    \n",
    "    # get result from table\n",
    "    resultlist = [table[n-1][j] for j in range(maxNumberOfPartitions)]\n",
    "    if len(resultlist) == 0:\n",
    "        raise ValueError(\"Combination of parameters allows no partition!\")\n",
    "    \n",
    "    # if k is given, select best solution with k subsets. If not, select best overall solution\n",
    "    if (k == 0):\n",
    "        bestCutValue = min(resultlist)\n",
    "        k = resultlist.index(bestCutValue) + 1\n",
    "    else:\n",
    "        bestCutValue = table[n-1][k-1]\n",
    "        \n",
    "    if (bestCutValue == float(\"inf\")):\n",
    "        raise ValueError(\"Combination of parameters allows no partition!\")\n",
    "    result = partitioning.Partition(n)\n",
    "    result.setUpperBound(k)\n",
    "    \n",
    "    # search best path backwards\n",
    "    j = k-1\n",
    "    i = n-1\n",
    "    c = bestCutValue\n",
    "    \n",
    "    while (j > 0):\n",
    "        nextI = pred[i][j]\n",
    "        assert(nextI >= 0)\n",
    "        # assign partitions to nodes\n",
    "        for l in range(nextI+1, i+1):\n",
    "            result[l] = j\n",
    "        j -= 1\n",
    "        c -=w(i)\n",
    "        i = nextI\n",
    "        \n",
    "    # assign partitions to first nodes not covered by previous loop\n",
    "    for l in range(0, nextI+1):\n",
    "        result[l] = 0\n",
    "        \n",
    "    # check results:\n",
    "    for i in range(n):\n",
    "        assert(result[i] >= 0)\n",
    "        assert(result[i] < k)\n",
    "        \n",
    "    for size in result.subsetSizes():\n",
    "        if (abs(size-X) > tolerance):\n",
    "            print(\"For n=\", n, \", k=\", k, \", X=\", X, \", tolerance=\", tolerance, \", \", size, \" is wrong.\")\n",
    "        assert(abs(size-X) <= tolerance)\n",
    "    \n",
    "    return result"
   ]
  },
  {
   "cell_type": "code",
   "execution_count": 5,
   "metadata": {
    "collapsed": false
   },
   "outputs": [],
   "source": [
    "def spiralLayout(G, k, rowheight = 10, colwidth = 10):\n",
    "    n = G.numberOfNodes()\n",
    "    z = G.upperNodeIdBound()\n",
    "    x = [0 for i in range(z)]\n",
    "    y = [0 for i in range(z)]\n",
    "    for i in range(z):\n",
    "        if G.hasNode(i):\n",
    "            if int(i / k) % 2 > 0:\n",
    "                x[i] = colwidth*(k-(i % k)-1)\n",
    "            else:\n",
    "                x[i] = colwidth*(i % k)\n",
    "            \n",
    "            y[i] = rowheight*int(i / k)\n",
    "            \n",
    "            # adapt coordinates for rounded bends\n",
    "            \n",
    "            ydelta = int(rowheight / 4)\n",
    "            xdelta = colwidth*(1-math.cos(math.pi/3))\n",
    "            rightwards = int(i / k) % 2 == 0\n",
    "    \n",
    "            if i % k == k-1:\n",
    "                y[i] += ydelta\n",
    "                x[i] = x[i] - xdelta if rightwards else x[i] + xdelta\n",
    "            if i > 0 and i % k == 0:\n",
    "                y[i] -= ydelta\n",
    "                x[i] = x[i] - xdelta if not rightwards else x[i] + xdelta\n",
    "        \n",
    "    for i in range(z):\n",
    "        x[i] += 1# gephi ignores coordinates with value 0\n",
    "        y[i] += 1\n",
    "    return x, y"
   ]
  },
  {
   "cell_type": "code",
   "execution_count": 6,
   "metadata": {
    "collapsed": true
   },
   "outputs": [],
   "source": [
    "def naivePartition(G, X):\n",
    "    n = G.numberOfNodes()\n",
    "    naivePart = partitioning.Partition(n)\n",
    "    naivePart.allToSingletons()\n",
    "    for i in range(n):\n",
    "        naivePart.moveToSubset(int(i/X), i)\n",
    "    return naivePart"
   ]
  },
  {
   "cell_type": "code",
   "execution_count": 7,
   "metadata": {
    "collapsed": false
   },
   "outputs": [],
   "source": [
    "def mlPartition(G, k, imbalance):\n",
    "    mlp = partitioning.MultiLevelPartitioner(G, k, imbalance, False, {})\n",
    "    mlp.run()\n",
    "    return mlp.getPartition()"
   ]
  },
  {
   "cell_type": "code",
   "execution_count": 50,
   "metadata": {
    "collapsed": true
   },
   "outputs": [],
   "source": [
    "def greedyPartition(G, sizelimit):\n",
    "    n = G.numberOfNodes()\n",
    "    part = partitioning.Partition(n)\n",
    "    part.allToSingletons()\n",
    "    \n",
    "    def getWeight(edge):\n",
    "        return G.weight(edge[0], edge[1])\n",
    "    \n",
    "    sortedEdges = sorted(G.edges(), key=getWeight)\n",
    "    \n",
    "    # merge heaviest edge, as long as allowed\n",
    "    while len(sortedEdges) > 0:\n",
    "        heaviestEdge = sortedEdges.pop()\n",
    "        firstPart = part.subsetOf(heaviestEdge[0])\n",
    "        secondPart = part.subsetOf(heaviestEdge[1])\n",
    "        sizeMap = part.subsetSizeMap()\n",
    "        allowed = True\n",
    "        if sizeMap[firstPart] + sizeMap[secondPart] > sizelimit:\n",
    "            allowed = False\n",
    "        partSet = {firstPart, secondPart}\n",
    "        for i in range(n-1):\n",
    "            if part[i] in partSet and part[i+2] in partSet and not part[i+1] in partSet:\n",
    "                allowed = False #otherwise, would create single embedded node\n",
    "        if allowed:\n",
    "            part.mergeSubsets(firstPart, secondPart)\n",
    "    \n",
    "    return part"
   ]
  },
  {
   "cell_type": "code",
   "execution_count": 51,
   "metadata": {
    "collapsed": false
   },
   "outputs": [],
   "source": [
    "part = greedyPartition(G, 13)"
   ]
  },
  {
   "cell_type": "code",
   "execution_count": 17,
   "metadata": {
    "collapsed": false
   },
   "outputs": [],
   "source": [
    "sortedEdges = sorted(edges, key=getWeight)\n"
   ]
  },
  {
   "cell_type": "code",
   "execution_count": null,
   "metadata": {
    "collapsed": true
   },
   "outputs": [],
   "source": [
    "filename = sys.argv[1]\n",
    "X = int(sys.argv[2])\n",
    "tolerance = int(sys.argv[3])\n",
    "k = int(sys.argv[4]) if len(sys.argv) >= 5 else 0\n",
    "chargedNodes = []\n",
    "for i in range(5, len(sys.argv)):\n",
    "    chargedNodes.append(int(sys.argv[i]))\n",
    "    \n",
    "G = readGraph(filename, Format.METIS)\n",
    "n = G.numberOfNodes()\n",
    "isCharged = [False for i in range(n)]\n",
    "for c in chargedNodes:\n",
    "    assert(c < n)\n",
    "    isCharged[c] = True\n",
    "\n",
    "part = continuousPartition(G, X, tolerance, k, isCharged)\n",
    "for a in chargedNodes:\n",
    "\tfor b in chargedNodes:\n",
    "\t\tif a != b:\n",
    "\t\t\tassert(part[a] != part[b])\n",
    "\n",
    "for i in range(n):\n",
    "\tprint(part[i])\n",
    "#community.PartitionWriter().write(part, filename+'.part')"
   ]
  },
  {
   "cell_type": "code",
   "execution_count": 8,
   "metadata": {
    "collapsed": true
   },
   "outputs": [],
   "source": [
    "G = readGraph('ubiquitin.graph', Format.METIS)\n",
    "n = G.numberOfNodes()"
   ]
  },
  {
   "cell_type": "code",
   "execution_count": null,
   "metadata": {
    "collapsed": false
   },
   "outputs": [],
   "source": [
    "isCharged = [False for i in range(n)]\n",
    "X = 10\n",
    "tolerance = 3\n",
    "k = 8\n",
    "part = continuousPartition(G, X, tolerance, k, isCharged)"
   ]
  },
  {
   "cell_type": "code",
   "execution_count": 22,
   "metadata": {
    "collapsed": false
   },
   "outputs": [],
   "source": [
    "part = mlPartition(G, 8, 0.3)"
   ]
  },
  {
   "cell_type": "code",
   "execution_count": null,
   "metadata": {
    "collapsed": false
   },
   "outputs": [],
   "source": [
    "dynErrors = []\n",
    "naiveErrors = []\n",
    "\n",
    "xlist = list(range(4,21))\n",
    "\n",
    "for X in xlist:\n",
    "    isCharged = [False for i in range(n)]\n",
    "    part = continuousPartition(G, X, 3, 0, isCharged)\n",
    "    error = partitioning.computeEdgeCut(part, G)\n",
    "    naivePart = naivePartition(G, X)\n",
    "    naiveError = partitioning.computeEdgeCut(naivePart, G)\n",
    "    dynErrors.append(error)\n",
    "    naiveErrors.append(naiveError)"
   ]
  },
  {
   "cell_type": "code",
   "execution_count": null,
   "metadata": {
    "collapsed": false
   },
   "outputs": [],
   "source": [
    "plt.plot(xlist, dynErrors, xlist, naiveErrors)"
   ]
  },
  {
   "cell_type": "code",
   "execution_count": null,
   "metadata": {
    "collapsed": true
   },
   "outputs": [],
   "source": [
    "plt.plot?"
   ]
  },
  {
   "cell_type": "code",
   "execution_count": 28,
   "metadata": {
    "collapsed": false
   },
   "outputs": [],
   "source": [
    "xcoords, ycoords = spiralLayout(G, 10, 20)"
   ]
  },
  {
   "cell_type": "code",
   "execution_count": 44,
   "metadata": {
    "collapsed": false
   },
   "outputs": [],
   "source": [
    "client = gephi.streaming.GephiStreamingClient()\n",
    "client.clearGraph()\n",
    "client.exportGraph(G)"
   ]
  },
  {
   "cell_type": "code",
   "execution_count": 52,
   "metadata": {
    "collapsed": false
   },
   "outputs": [],
   "source": [
    "client.exportNodeValues(G, part, \"partition\")"
   ]
  },
  {
   "cell_type": "code",
   "execution_count": 46,
   "metadata": {
    "collapsed": false
   },
   "outputs": [],
   "source": [
    "client.exportNodeValues(G, xcoords, 'x')"
   ]
  },
  {
   "cell_type": "code",
   "execution_count": 47,
   "metadata": {
    "collapsed": true
   },
   "outputs": [],
   "source": [
    "client.exportNodeValues(G, [-elem for elem in ycoords], 'y')"
   ]
  },
  {
   "cell_type": "code",
   "execution_count": 53,
   "metadata": {
    "collapsed": false
   },
   "outputs": [
    {
     "data": {
      "text/plain": [
       "6.677457999999999"
      ]
     },
     "execution_count": 53,
     "metadata": {},
     "output_type": "execute_result"
    }
   ],
   "source": [
    "partitioning.computeEdgeCut(part, G)"
   ]
  },
  {
   "cell_type": "code",
   "execution_count": 27,
   "metadata": {
    "collapsed": true
   },
   "outputs": [],
   "source": [
    "def exportToGephi(G, xcoords, ycoords, part):\n",
    "    client = gephi.streaming.GephiStreamingClient()\n",
    "    client.clearGraph()\n",
    "    client.exportGraph(G)\n",
    "    client.exportNodeValues(G, part, \"partition\")\n",
    "    client.exportNodeValues(G, xcoords, 'x')\n",
    "    client.exportNodeValues(G, [-elem for elem in ycoords], 'y')"
   ]
  },
  {
   "cell_type": "code",
   "execution_count": null,
   "metadata": {
    "collapsed": false
   },
   "outputs": [],
   "source": [
    "part = community.detectCommunities(G)"
   ]
  },
  {
   "cell_type": "code",
   "execution_count": null,
   "metadata": {
    "collapsed": true
   },
   "outputs": [],
   "source": [
    "part = community.detectCommunities"
   ]
  },
  {
   "cell_type": "code",
   "execution_count": null,
   "metadata": {
    "collapsed": true
   },
   "outputs": [],
   "source": [
    "community.PLM?"
   ]
  },
  {
   "cell_type": "code",
   "execution_count": null,
   "metadata": {
    "collapsed": true
   },
   "outputs": [],
   "source": [
    "G = Graph(20)"
   ]
  },
  {
   "cell_type": "code",
   "execution_count": null,
   "metadata": {
    "collapsed": true
   },
   "outputs": [],
   "source": [
    "for i in range(20-1):\n",
    "    G.addEdge(i,i+1)"
   ]
  },
  {
   "cell_type": "code",
   "execution_count": null,
   "metadata": {
    "collapsed": true
   },
   "outputs": [],
   "source": [
    "G.addEdge(0,19)\n",
    "G.addEdge(1,18)\n",
    "G.addEdge(2,17)\n",
    "G.addEdge(3,16)"
   ]
  },
  {
   "cell_type": "code",
   "execution_count": null,
   "metadata": {
    "collapsed": false
   },
   "outputs": [],
   "source": [
    "n = G.numberOfNodes()"
   ]
  },
  {
   "cell_type": "code",
   "execution_count": null,
   "metadata": {
    "collapsed": true
   },
   "outputs": [],
   "source": [
    "part = partitioning.Partition(20)\n",
    "part.allToSingletons()"
   ]
  },
  {
   "cell_type": "code",
   "execution_count": null,
   "metadata": {
    "collapsed": true
   },
   "outputs": [],
   "source": [
    "for i in range(4):\n",
    "    part.moveToSubset(0, i)\n",
    "    part.moveToSubset(0, n-i-1)"
   ]
  },
  {
   "cell_type": "code",
   "execution_count": null,
   "metadata": {
    "collapsed": true
   },
   "outputs": [],
   "source": [
    "for i in range(n):\n",
    "    part.moveToSubset(1, i)"
   ]
  },
  {
   "cell_type": "code",
   "execution_count": 54,
   "metadata": {
    "collapsed": false
   },
   "outputs": [
    {
     "name": "stdout",
     "output_type": "stream",
     "text": [
      "-------------------  ---------\n",
      "# partitions         12\n",
      "min partition size    1\n",
      "max partition size   13\n",
      "avg. partition size   6.33333\n",
      "imbalance             1.85714\n",
      "edge cut              6.67746\n",
      "edge cut (portion)    0.036892\n",
      "modularity            0.232637\n",
      "-------------------  ---------\n"
     ]
    }
   ],
   "source": [
    "partitioning.inspectPartitions(part, G)"
   ]
  },
  {
   "cell_type": "code",
   "execution_count": 55,
   "metadata": {
    "collapsed": true
   },
   "outputs": [],
   "source": [
    "part.compact()"
   ]
  },
  {
   "cell_type": "code",
   "execution_count": 57,
   "metadata": {
    "collapsed": false
   },
   "outputs": [
    {
     "name": "stdout",
     "output_type": "stream",
     "text": [
      "0 0\n",
      "1 1\n",
      "2 1\n",
      "3 1\n",
      "4 2\n",
      "5 2\n",
      "6 2\n",
      "7 3\n",
      "8 3\n",
      "9 2\n",
      "10 2\n",
      "11 2\n",
      "12 1\n",
      "13 1\n",
      "14 1\n",
      "15 4\n",
      "16 5\n",
      "17 6\n",
      "18 7\n",
      "19 7\n",
      "20 6\n",
      "21 6\n",
      "22 5\n",
      "23 8\n",
      "24 6\n",
      "25 5\n",
      "26 5\n",
      "27 8\n",
      "28 1\n",
      "29 3\n",
      "30 5\n",
      "31 8\n",
      "32 1\n",
      "33 1\n",
      "34 5\n",
      "35 3\n",
      "36 9\n",
      "37 5\n",
      "38 5\n",
      "39 3\n",
      "40 3\n",
      "41 3\n",
      "42 2\n",
      "43 2\n",
      "44 2\n",
      "45 10\n",
      "46 10\n",
      "47 2\n",
      "48 3\n",
      "49 3\n",
      "50 5\n",
      "51 5\n",
      "52 6\n",
      "53 6\n",
      "54 6\n",
      "55 5\n",
      "56 7\n",
      "57 6\n",
      "58 5\n",
      "59 5\n",
      "60 1\n",
      "61 1\n",
      "62 0\n",
      "63 0\n",
      "64 1\n",
      "65 1\n",
      "66 2\n",
      "67 2\n",
      "68 2\n",
      "69 3\n",
      "70 3\n",
      "71 3\n",
      "72 3\n",
      "73 11\n",
      "74 11\n",
      "75 11\n"
     ]
    }
   ],
   "source": [
    "for i in range(n):\n",
    "    print(i, part[i])"
   ]
  },
  {
   "cell_type": "code",
   "execution_count": null,
   "metadata": {
    "collapsed": true
   },
   "outputs": [],
   "source": []
  }
 ],
 "metadata": {
  "kernelspec": {
   "display_name": "Python 3",
   "language": "python",
   "name": "python3"
  },
  "language_info": {
   "codemirror_mode": {
    "name": "ipython",
    "version": 3
   },
   "file_extension": ".py",
   "mimetype": "text/x-python",
   "name": "python",
   "nbconvert_exporter": "python",
   "pygments_lexer": "ipython3",
   "version": "3.4.3"
  }
 },
 "nbformat": 4,
 "nbformat_minor": 0
}
