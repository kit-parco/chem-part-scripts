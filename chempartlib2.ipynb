{
 "cells": [
  {
   "cell_type": "code",
   "execution_count": null,
   "metadata": {
    "collapsed": false
   },
   "outputs": [],
   "source": [
    "# %load chempartlib.py\n",
    "from networkit import *\n",
    "import math, sys, subprocess\n",
    "import time"
   ]
  },
  {
   "cell_type": "code",
   "execution_count": null,
   "metadata": {
    "collapsed": true
   },
   "outputs": [],
   "source": [
    "def getCutWeight(G, part, v, block):\n",
    "    n = G.numberOfNodes()\n",
    "    z = G.upperNodeIdBound()\n",
    "    assert(len(part) == n)\n",
    "    assert(v < n)\n",
    "    assert(block in part)\n",
    "    \n",
    "    return sum([G.weight(v, u) for u in G.nodes() if G.hasEdge(v,u) and part[u] == block])"
   ]
  },
  {
   "cell_type": "code",
   "execution_count": null,
   "metadata": {
    "collapsed": true
   },
   "outputs": [],
   "source": [
    "def continuousPartition(G, X, tolerance, k=0, isCharged=[]):\n",
    "    \"\"\"\n",
    "    Partition G into subsets of size X +/- tolerance and with consecutive node ids.\n",
    "    Charged nodes are not grouped into the same subset.\n",
    "    \"\"\"\n",
    "\n",
    "    # validate input\n",
    "    n = G.numberOfNodes()\n",
    "    if len(isCharged) > 0:\n",
    "        assert(len(isCharged)==n)\n",
    "        if k > 0:\n",
    "            assert(sum(isCharged) <= k)\n",
    "    else:\n",
    "        isCharged = [False for i in range(n)]\n",
    "    assert(X > 0)\n",
    "    assert(tolerance >= 0)\n",
    "    if (n % X > 0 or (k>0 and k*X != n)) and tolerance == 0:\n",
    "        if (k > 0):\n",
    "            print(\"Creating\", k, \"partitions of size\", X, \"from a graph with\", n, \" nodes and tolerance 0 is impossible.\")\n",
    "        else:\n",
    "            print(\"Creating partitions of size\", X, \"from a graph with\", n, \" nodes and tolerance 0 is impossible.\")\n",
    "        print(\"Set tolerance to 1.\")\n",
    "        tolerance = 1\n",
    "        \n",
    "    if k > 0:\n",
    "        assert(n <= (X + tolerance)*k)\n",
    "        assert(n >= (X - tolerance)*k)\n",
    "        \n",
    "    maxNumberOfPartitions = int(n / max(X - tolerance, 1)) if (k == 0) else k\n",
    "    \n",
    "    def w(i):\n",
    "        \"\"\"\n",
    "        Weight of cutting after node i.\n",
    "        TODO: consider other weights beside the single cut edge\n",
    "        \"\"\"\n",
    "        assert(i >= 0)\n",
    "        assert(i < n)\n",
    "        if (i == n-1):\n",
    "            return 0\n",
    "        else:\n",
    "            return G.weight(i,i+1)\n",
    "    \n",
    "    # allocate cut and predecessor table\n",
    "    table = [[float(\"inf\") for j in range(maxNumberOfPartitions)] for i in range(n)]\n",
    "    pred = [[-1 for j in range(maxNumberOfPartitions)] for i in range(n)]\n",
    "    \n",
    "    # fill table \n",
    "    for i in range(n):\n",
    "        for j in range(maxNumberOfPartitions):\n",
    "            if (j == 0):\n",
    "                if abs(i+1-X) <= tolerance:\n",
    "                    table[i][j] = w(i)\n",
    "            elif (i >= (X-tolerance)):\n",
    "                windowStart = max(i-(X+tolerance),0)\n",
    "                \n",
    "                # make sure that no two charged nodes are in the same partition\n",
    "                chargeEncountered = False\n",
    "                for l in reversed(range(windowStart, i+1)):\n",
    "                    assert(l >= windowStart)\n",
    "                    if isCharged[l]:\n",
    "                        if chargeEncountered:\n",
    "                            windowStart = l\n",
    "                            break\n",
    "                        else:\n",
    "                            chargeEncountered = True\n",
    "                \n",
    "                predList = [table[l][j-1] for l in range(windowStart, min(i,i-(X-tolerance)+1))]\n",
    "                if (len(predList) > 0):\n",
    "                    minPred = min(predList)\n",
    "                    table[i][j] = minPred + w(i)\n",
    "                    pred[i][j] = predList.index(minPred) + windowStart\n",
    "                    \n",
    "    # get result from table\n",
    "    resultlist = [table[n-1][j] for j in range(maxNumberOfPartitions)]\n",
    "    if len(resultlist) == 0:\n",
    "        raise ValueError(\"Combination of parameters allows no partition!\")\n",
    "    \n",
    "    # if k is given, select best solution with k subsets. If not, select best overall solution\n",
    "    if (k == 0):\n",
    "        bestCutValue = min(resultlist)\n",
    "        k = resultlist.index(bestCutValue) + 1\n",
    "    else:\n",
    "        bestCutValue = table[n-1][k-1]\n",
    "        \n",
    "    if (bestCutValue == float(\"inf\")):\n",
    "        raise ValueError(\"Combination of parameters allows no partition!\")\n",
    "    result = partitioning.Partition(n)\n",
    "    result.setUpperBound(k)\n",
    "    \n",
    "    # search best path backwards\n",
    "    j = k-1\n",
    "    i = n-1\n",
    "    c = bestCutValue\n",
    "    \n",
    "    while (j > 0):\n",
    "        nextI = pred[i][j]\n",
    "        assert(nextI >= 0)\n",
    "        # assign partitions to nodes\n",
    "        for l in range(nextI+1, i+1):\n",
    "            result[l] = j\n",
    "        j -= 1\n",
    "        c -=w(i)\n",
    "        i = nextI\n",
    "        \n",
    "    # assign partitions to first nodes not covered by previous loop\n",
    "    for l in range(0, nextI+1):\n",
    "        result[l] = 0\n",
    "        \n",
    "    # check results:\n",
    "    for i in range(n):\n",
    "        assert(result[i] >= 0)\n",
    "        assert(result[i] < k)\n",
    "        \n",
    "    for size in result.subsetSizes():\n",
    "        if (abs(size-X) > tolerance):\n",
    "            print(\"For n=\", n, \", k=\", k, \", X=\", X, \", tolerance=\", tolerance, \", \", size, \" is wrong.\")\n",
    "        assert(abs(size-X) <= tolerance)\n",
    "    \n",
    "    return result"
   ]
  },
  {
   "cell_type": "code",
   "execution_count": null,
   "metadata": {
    "collapsed": true
   },
   "outputs": [],
   "source": [
    "def spiralLayout(G, k, rowheight = 10, colwidth = 10):\n",
    "    \"\"\"\n",
    "    Return two lists, of x and y coordinates for a spiral layout of G.\n",
    "\n",
    "    k nodes are put in one row, keywords rowheight and colwidth determine spacing\n",
    "    \"\"\"\n",
    "    n = G.numberOfNodes()\n",
    "    z = G.upperNodeIdBound()\n",
    "    x = [0 for i in range(z)]\n",
    "    y = [0 for i in range(z)]\n",
    "    for i in range(z):\n",
    "        if G.hasNode(i):\n",
    "            if int(i / k) % 2 > 0:\n",
    "                x[i] = colwidth*(k-(i % k)-1)\n",
    "            else:\n",
    "                x[i] = colwidth*(i % k)\n",
    "            \n",
    "            y[i] = rowheight*int(i / k)\n",
    "            \n",
    "            # adapt coordinates for rounded bends\n",
    "            \n",
    "            ydelta = int(rowheight / 4)\n",
    "            xdelta = colwidth*(1-math.cos(math.pi/3))\n",
    "            rightwards = int(i / k) % 2 == 0\n",
    "    \n",
    "            if i % k == k-1:\n",
    "                y[i] += ydelta\n",
    "                x[i] = x[i] - xdelta if rightwards else x[i] + xdelta\n",
    "            if i > 0 and i % k == 0:\n",
    "                y[i] -= ydelta\n",
    "                x[i] = x[i] - xdelta if not rightwards else x[i] + xdelta\n",
    "        \n",
    "    for i in range(z):\n",
    "        x[i] += 1# gephi ignores coordinates with value 0\n",
    "        y[i] += 1\n",
    "    return x, y"
   ]
  },
  {
   "cell_type": "code",
   "execution_count": null,
   "metadata": {
    "collapsed": true
   },
   "outputs": [],
   "source": [
    "def naivePartition(G, X):\n",
    "    \"\"\"\n",
    "    Chop a new fragment off G every X nodes\n",
    "    \"\"\"\n",
    "    n = G.numberOfNodes()\n",
    "    naivePart = partitioning.Partition(n)\n",
    "    naivePart.allToSingletons()\n",
    "    for i in range(n):\n",
    "        naivePart.moveToSubset(int(i/X), i)\n",
    "    return naivePart"
   ]
  },
  {
   "cell_type": "code",
   "execution_count": null,
   "metadata": {
    "collapsed": true
   },
   "outputs": [],
   "source": [
    "def mlPartition(G, k, imbalance, isCharged=[]):\n",
    "    \"\"\"\n",
    "    Use a multi-level approach with Fiduccia-Matheyses to partition G.\n",
    "\n",
    "    Subsets have size at most (1+imbalance)*ceil(n/k)\n",
    "    \"\"\"\n",
    "    n = G.numberOfNodes()\n",
    "    if len(isCharged) > 0:\n",
    "        assert(len(isCharged)==n)\n",
    "        if k > 0:\n",
    "            assert(sum(isCharged) <= k)\n",
    "    else:\n",
    "        isCharged = [False for i in range(n)]\n",
    "    \n",
    "    listOfChargedNodes = [i for i in range(n) if isCharged[i]]\n",
    "    mlp = partitioning.MultiLevelPartitioner(G, k, imbalance, False, listOfChargedNodes, True)\n",
    "    mlp.run()\n",
    "    return mlp.getPartition()"
   ]
  },
  {
   "cell_type": "code",
   "execution_count": null,
   "metadata": {
    "collapsed": true
   },
   "outputs": [],
   "source": [
    "def greedyPartition(G, sizelimit, isCharged=[]):\n",
    "    \"\"\"\n",
    "    Starting with singleton clusters, greedily merge the heaviest edge as long as smaller than sizelimit.\n",
    "    \"\"\"\n",
    "    n = G.numberOfNodes()\n",
    "    if len(isCharged) > 0:\n",
    "        assert(len(isCharged)==n)\n",
    "    else:\n",
    "        isCharged = [False for i in range(n)]\n",
    "    n = G.numberOfNodes()\n",
    "    part = partitioning.Partition(n)\n",
    "    part.allToSingletons()\n",
    "    chargedPartitions = set([part.subsetOf(i) for i in range(n) if isCharged[i]])\n",
    "    \n",
    "    def getWeight(edge):\n",
    "        return G.weight(edge[0], edge[1])\n",
    "    \n",
    "    sortedEdges = sorted(G.edges(), key=getWeight)\n",
    "    \n",
    "    # merge heaviest edge, as long as allowed\n",
    "    while len(sortedEdges) > 0:\n",
    "        allowed = True\n",
    "        heaviestEdge = sortedEdges.pop()\n",
    "        firstPart = part.subsetOf(heaviestEdge[0])\n",
    "        secondPart = part.subsetOf(heaviestEdge[1])\n",
    "        if firstPart in chargedPartitions and secondPart in chargedPartitions:\n",
    "            allowed = False\n",
    "        sizeMap = part.subsetSizeMap()\n",
    "        if sizeMap[firstPart] + sizeMap[secondPart] > sizelimit:\n",
    "            allowed = False\n",
    "        partSet = {firstPart, secondPart}\n",
    "        for i in range(n-2):\n",
    "            if part[i] in partSet and part[i+2] in partSet and not part[i+1] in partSet:\n",
    "                allowed = False #otherwise, would create single embedded node\n",
    "        if allowed:\n",
    "            part.mergeSubsets(firstPart, secondPart)\n",
    "            if firstPart in chargedPartitions or secondPart in chargedPartitions:\n",
    "                chargedPartitions.add(part.subsetOf(heaviestEdge[0]))\n",
    "    \n",
    "    part.compact()\n",
    "    return part"
   ]
  },
  {
   "cell_type": "code",
   "execution_count": null,
   "metadata": {
    "collapsed": false
   },
   "outputs": [],
   "source": [
    "def exportToGephi(G, xcoords, ycoords, part):\n",
    "    \"\"\"\n",
    "    Export graph to Gephi, along with coordinates and partition\n",
    "    \"\"\"\n",
    "    client = gephi.streaming.GephiStreamingClient()\n",
    "    client.clearGraph()\n",
    "    client.exportGraph(G)\n",
    "    client.exportNodeValues(G, part, \"partition\")\n",
    "    client.exportNodeValues(G, xcoords, 'x')\n",
    "    client.exportNodeValues(G, [-elem for elem in ycoords], 'y')"
   ]
  },
  {
   "cell_type": "code",
   "execution_count": null,
   "metadata": {
    "collapsed": false
   },
   "outputs": [],
   "source": [
    "def moveAllowed(G, partition, v, targetBlock, maxBlockSize = 0, isCharged = []):\n",
    "    \"\"\"\n",
    "    Returns False/True, depending on whether it is allowed to move node v to block targetBlock without violating the charge and gap constraints\n",
    "    \"\"\"\n",
    "    \n",
    "    z = G.upperNodeIdBound()\n",
    "    n = G.numberOfNodes()\n",
    "    assert(n <= z)\n",
    "    assert(len(partition) == z)\n",
    "    assert(G.hasNode(v))\n",
    "    assert(len(isCharged) == 0 or len(isCharged) == z)\n",
    "    \n",
    "    if maxBlockSize == 0:\n",
    "        maxBlockSize = n\n",
    "        \n",
    "    targetBlockSize = sum([partition[u] == targetBlock for u in G.nodes()])\n",
    "    \n",
    "    if len(isCharged) == 0:\n",
    "        isCharged = [False for i in range(z)]\n",
    "    \n",
    "    # move would be forbidden if node and target partition are already charged\n",
    "    if isCharged[v] and any([isCharged[u] for u in G.nodes() if partition[u] == targetBlock and u != v]):\n",
    "        return False\n",
    "    \n",
    "    # move would also be forbidden if gap in main chain of size 1 is created\n",
    "    if v-2 >= 0 and G.hasNode(v-2) and partition[v-2] == targetBlock and G.hasNode(v-1) and partition[v-1] != targetBlock:\n",
    "        return False\n",
    "    \n",
    "    if G.hasNode(v+2) and partition[v+2] == targetBlock and G.hasNode(v+1) and partition[v+1] != targetBlock:\n",
    "        return False\n",
    "    \n",
    "    # move is forbidden if targetBlock is already at maximum capacity\n",
    "    if targetBlockSize > maxBlockSize or (targetBlockSize == maxBlockSize and partition[v] != targetBlock):\n",
    "        return False\n",
    "    \n",
    "    # move is allowed!\n",
    "    return True\n",
    "    "
   ]
  },
  {
   "cell_type": "code",
   "execution_count": null,
   "metadata": {
    "collapsed": true
   },
   "outputs": [],
   "source": [
    "def getCutWeights(G, part, v):\n",
    "    \"\"\"\n",
    "    Returns a dictionary with block numbers as keys and cut weights as values\n",
    "    \"\"\"\n",
    "    n = G.numberOfNodes()\n",
    "    assert(len(part) == n)\n",
    "    assert(v < n)\n",
    "    \n",
    "    sums = {}\n",
    "    \n",
    "    for block in set(part):\n",
    "        sums[block] = 0\n",
    "        \n",
    "    for u in G.neighbors(v):\n",
    "        sums[part[v]] += G.weight(u,v)\n",
    "        \n",
    "    return sums"
   ]
  },
  {
   "cell_type": "code",
   "execution_count": null,
   "metadata": {
    "collapsed": true
   },
   "outputs": [],
   "source": [
    "def repairPartition(G, partition, maxBlockSize = 0, isCharged = []):\n",
    "    \"\"\"\n",
    "    Repairs errors in partition, for example multiple charged nodes in the same partition or gaps of size 1\n",
    "    \"\"\"\n",
    "    z = G.upperNodeIdBound()\n",
    "    assert(len(partition) == z)\n",
    "    assert(len(isCharged) == 0 or len(isCharged) == z)\n",
    "    if len(isCharged) == 0:\n",
    "        isCharged = [False for i in range(z)]\n",
    "    \n",
    "    fragmentSet = {partition[v] for v in range(len(partition))}\n",
    "    \n",
    "    def findBestMove(u):\n",
    "        allowedMoves = [f for f in fragmentSet if moveAllowed(G, partition, u, f, maxBlockSize, isCharged)]\n",
    "        weights = getCutWeights(G, partition, u)\n",
    "        assert(len(allowedMoves) > 0)\n",
    "        bestMove = allowedMoves[0]\n",
    "        for move in allowedMoves:\n",
    "            if weights[move] > weights[bestMove]:\n",
    "                #we want to minimize the total weight of cut edges.\n",
    "                #Thus we select as target partition the one with the highest edge weight to the current node\n",
    "                bestMove = move\n",
    "        return bestMove\n",
    "    \n",
    "    for u in G.nodes():\n",
    "        #can the node stay where it is?\n",
    "        if not moveAllowed(G, partition, u, partition[u], maxBlockSize, isCharged):\n",
    "            # if not, find the best move for it\n",
    "            partition[u] = findBestMove(u)\n",
    "    return partition"
   ]
  },
  {
   "cell_type": "code",
   "execution_count": null,
   "metadata": {
    "collapsed": true
   },
   "outputs": [],
   "source": [
    "def kaHiPWrapper(G, k, imbalance = 3, pathToKaHiP = '/home/moritzl/Gadgets/KaHIP/deploy/kaffpa'):\n",
    "    \"\"\"\n",
    "    Calls KaHiP, an external partitioner.\n",
    "    \"\"\"\n",
    "    \n",
    "    tempFileName = 'tempForKaHiP.graph'\n",
    "    outputFileName = 'tmppartition'+str(k)\n",
    "    n = G.numberOfNodes()\n",
    "    \n",
    "    maxWeight = max([G.weight(u,v) for (u,v) in G.edges()])\n",
    "    \n",
    "    \"\"\"\n",
    "    KaHiP only accepts integer weights, thus we scale and round them.\n",
    "    Weights must be under 1 million, otherwise the METIS graph writer switches to scientific notation,\n",
    "    which confuses KaHiP\n",
    "    \"\"\"\n",
    "    scalingFactor = int((10**6-1)/maxWeight)\n",
    "    \n",
    "    \n",
    "    #copy and scale graph\n",
    "    Gscaled = G.copyNodes()\n",
    "    for (u,v) in G.edges():\n",
    "        Gscaled.addEdge(u,v,int(G.weight(u,v)*scalingFactor))\n",
    "    \n",
    "    # write out temporary file\n",
    "    writeGraph(Gscaled, tempFileName, Format.METIS)\n",
    "    \n",
    "    # call KaHIP\n",
    "    subprocess.call([pathToKaHiP, '--k='+str(k), '--imbalance='+str(imbalance), '--preconfiguration=strong', tempFileName])\n",
    "    \n",
    "    # create empty result partition\n",
    "    result = partitioning.Partition(n)\n",
    "    result.setUpperBound(k)\n",
    "    \n",
    "    # read in partition\n",
    "    i = 0\n",
    "    with open(outputFileName, 'r') as f:\n",
    "        for line in f:\n",
    "            result[i] = int(line)\n",
    "            i += 1\n",
    "    \n",
    "    assert(len(result) == G.numberOfNodes())\n",
    "    assert(len(set(result)) == k)\n",
    "    \n",
    "    # remove temporary files\n",
    "    subprocess.call(['rm', tempFileName])\n",
    "    subprocess.call(['rm', outputFileName])\n",
    "    \n",
    "    return result"
   ]
  },
  {
   "cell_type": "code",
   "execution_count": null,
   "metadata": {
    "collapsed": true
   },
   "outputs": [],
   "source": [
    "def partitionValid(G, partition, maxBlockSize = 0, isCharged = []):\n",
    "    z = G.upperNodeIdBound()\n",
    "    n = G.numberOfNodes()\n",
    "    if len(partition) != z:\n",
    "        return False\n",
    "    \n",
    "    if len(isCharged) != 0 and len(isCharged) != z:\n",
    "        return False\n",
    "    \n",
    "    if len(isCharged) == 0:\n",
    "        isCharged = [False for i in range(z)]\n",
    "        \n",
    "    if maxBlockSize == 0:\n",
    "        maxBlockSize = n\n",
    "        \n",
    "    chargedFragments = set()\n",
    "    \n",
    "    fragmentSizes = {}\n",
    "    \n",
    "    for v in range(G.numberOfNodes()):\n",
    "        if not G.hasNode(v):\n",
    "            print(\"Node \", v, \" not in graph.\")\n",
    "            return False\n",
    "            \n",
    "        # partition invalid if two charged nodes in same fragment\n",
    "        if isCharged[v]:\n",
    "            if partition[v] in chargedFragments:\n",
    "                print(\"Node\", v, \" is charged, but fragment\", partition[v], \"already has a charged node.\")\n",
    "                return False\n",
    "            else:\n",
    "                chargedFragments.add(partition[v])\n",
    "    \n",
    "        # partition also invalid if gaps of size 1 exist\n",
    "        if G.hasNode(v+2) and partition[v+2] == partition[v] and G.hasNode(v+1) and partition[v+1] != partition[v]:\n",
    "            print(\"Nodes\", v, \"and\", v+2, \"are in fragment\", partition[v], \"but\", v+1, \"is in fragment\", partition[v+1])\n",
    "            return False\n",
    "    \n",
    "        # partition invalid if fragment is larger than allowed\n",
    "        if not partition[v] in fragmentSizes:\n",
    "            fragmentSizes[partition[v]] = 1\n",
    "        else:\n",
    "            fragmentSizes[partition[v]] += 1\n",
    "        if fragmentSizes[partition[v]] > maxBlockSize:\n",
    "            print(\"Fragment\", partition[v], \"contains\", fragmentSizes[partition[v]], \"nodes, more than\", maxBlockSize)\n",
    "            return False\n",
    "    \n",
    "    # no reason to complain found, partition is valid\n",
    "    return True"
   ]
  },
  {
   "cell_type": "code",
   "execution_count": null,
   "metadata": {
    "collapsed": true
   },
   "outputs": [],
   "source": [
    "def comparePartitionQuality(G, k, imbalance, chargedNodes = set()):\n",
    "    n = G.numberOfNodes()\n",
    "    \n",
    "    isCharged = [v in chargedNodes for v in range(G.numberOfNodes())]\n",
    "    sizelimit = int(math.ceil(n / k)*(1+imbalance))\n",
    "    \n",
    "    ml = mlPartition(G, k, imbalance, isCharged)\n",
    "    print(\"MultiLevel:\", partitioning.computeEdgeCut(ml, G))\n",
    "    if not partitionValid(G, ml, sizelimit, isCharged):\n",
    "        repairedML = repairPartition(G, ml, sizelimit, isCharged)\n",
    "        print(\"Repaired Multilevel:\", partitioning.computeEdgeCut(repairedML, G))\n",
    "        if not partitionValid(G, repairedML, sizelimit, isCharged):\n",
    "            print(repairedML)\n",
    "        #assert(partitionValid(G, repairedML, sizelimit, isCharged))\n",
    "\n",
    "    print()\n",
    "    \n",
    "    greedy = greedyPartition(G, sizelimit, isCharged)\n",
    "    print(\"Greedy:\", partitioning.computeEdgeCut(greedy, G))\n",
    "    if not partitionValid(G, greedy, sizelimit, isCharged):\n",
    "        repairedGreedy = repairPartition(G, greedy, sizelimit, isCharged)\n",
    "        print(\"Repaired Greedy:\", partitioning.computeEdgeCut(repairedGreedy, G))\n",
    "        assert(partitionValid(G, repairedGreedy, sizelimit, isCharged))\n",
    "        \n",
    "    print()\n",
    "    \n",
    "    X = math.ceil(n / k)\n",
    "    tolerance = math.ceil(imbalance*X)\n",
    "    cont = continuousPartition(G, X, tolerance, k, isCharged)\n",
    "    print(\"Dynamic Programming:\", partitioning.computeEdgeCut(cont, G))\n",
    "    if not partitionValid(G, cont, sizelimit, isCharged):\n",
    "        repairedDynamic = repairPartition(G, cont, sizelimit, isCharged)\n",
    "        print(\"Repaired Dynamic:\", partitioning.computeEdgeCut(repairedDynamic, G))\n",
    "        assert(partitionValid(G, repairedDynamic, sizelimit, isCharged))\n",
    "\n",
    "    print()\n",
    "    \n",
    "    ka = kaHiPWrapper(G, k, imbalance*100)\n",
    "    print(\"Raw KaHIP:\", partitioning.computeEdgeCut(ka, G))\n",
    "    if not partitionValid(G, ka, sizelimit, isCharged):\n",
    "        repairedKa = repairPartition(G, ka, sizelimit, isCharged)\n",
    "        print(\"Repaired KaHiP:\", partitioning.computeEdgeCut(repairedKa, G))\n",
    "        assert(partitionValid(G, repairedKa, sizelimit, isCharged))\n",
    "    print()\n",
    "    \n",
    "    naive = naivePartition(G, sizelimit)\n",
    "    print(\"Naive:\", partitioning.computeEdgeCut(naive, G))\n",
    "    if not partitionValid(G, naive, sizelimit, isCharged):\n",
    "        repairedNaive = repairPartition(G, naive, sizelimit, isCharged)        \n",
    "        print(\"Repaired Naive:\", partitioning.computeEdgeCut(repairedNaive, G))\n",
    "        assert(partitionValid(G, repairedNaive, sizelimit, isCharged))"
   ]
  },
  {
   "cell_type": "code",
   "execution_count": null,
   "metadata": {
    "collapsed": true
   },
   "outputs": [],
   "source": [
    "def main():\n",
    "    Gnames = [\"ubiquitin\", \"bacteriorhodopsin-10-2.5\", \"bacteriorhodopsin-10-5\", \"bacteriorhodopsin-10-10\", \"br_corr_2\", \"bubble\"]\n",
    "    \n",
    "    for Gname in Gnames:\n",
    "        G = readGraph(\"/home/moritzl/NetworKit/chemfork/NetworKit-chemfork/input/\" + Gname + \".graph\", Format.METIS)\n",
    "\n",
    "        chargedNodes = set()\n",
    "        for v in range(5):\n",
    "            chargedNodes.add(G.randomNode())\n",
    "            \n",
    "        print(\"Graph:\", Gname)\n",
    "        print(\"chargedNodes =\", chargedNodes)\n",
    "        comparePartitionQuality(G, 10, 0.1, chargedNodes)\n",
    "        print('------------------------------------------------------------------')"
   ]
  },
  {
   "cell_type": "code",
   "execution_count": null,
   "metadata": {
    "collapsed": false
   },
   "outputs": [],
   "source": [
    "if __name__ == \"__main__\":\n",
    "    # execute only if run as a script\n",
    "    main()"
   ]
  },
  {
   "cell_type": "code",
   "execution_count": null,
   "metadata": {
    "collapsed": false
   },
   "outputs": [],
   "source": [
    "G = readGraph(\"/home/moritzl/NetworKit/chemfork/NetworKit-chemfork/input/\" + 'ubiquitin' + \".graph\", Format.METIS)"
   ]
  },
  {
   "cell_type": "code",
   "execution_count": null,
   "metadata": {
    "collapsed": true
   },
   "outputs": [],
   "source": [
    "chargedNodes = set()"
   ]
  },
  {
   "cell_type": "code",
   "execution_count": null,
   "metadata": {
    "collapsed": false
   },
   "outputs": [],
   "source": [
    "isCharged = [v in chargedNodes for v in range(G.numberOfNodes())]"
   ]
  },
  {
   "cell_type": "code",
   "execution_count": null,
   "metadata": {
    "collapsed": true
   },
   "outputs": [],
   "source": [
    "imbalance = 0.1"
   ]
  },
  {
   "cell_type": "code",
   "execution_count": null,
   "metadata": {
    "collapsed": false
   },
   "outputs": [],
   "source": [
    "k = 10\n",
    "n = G.numberOfNodes()\n",
    "sizelimit = int(math.ceil(n / k)*(1+imbalance))\n"
   ]
  },
  {
   "cell_type": "code",
   "execution_count": null,
   "metadata": {
    "collapsed": false
   },
   "outputs": [],
   "source": [
    "greedy = greedyPartition(G, sizelimit, isCharged)"
   ]
  },
  {
   "cell_type": "code",
   "execution_count": null,
   "metadata": {
    "collapsed": false
   },
   "outputs": [],
   "source": [
    "print(\"Greedy:\", partitioning.computeEdgeCut(greedy, G))\n",
    "print(\"Repaired Greedy:\", partitioning.computeEdgeCut(repairPartition(G, greedy, sizelimit, isCharged), G))"
   ]
  },
  {
   "cell_type": "code",
   "execution_count": null,
   "metadata": {
    "collapsed": false
   },
   "outputs": [],
   "source": [
    "X = math.ceil(n / k)\n",
    "tolerance = math.ceil(imbalance*X)\n",
    "cont = continuousPartition(G, X, tolerance, k, isCharged)"
   ]
  },
  {
   "cell_type": "code",
   "execution_count": null,
   "metadata": {
    "collapsed": false
   },
   "outputs": [],
   "source": [
    "print(\"Dynamic Programming:\", partitioning.computeEdgeCut(cont, G))"
   ]
  },
  {
   "cell_type": "code",
   "execution_count": null,
   "metadata": {
    "collapsed": false
   },
   "outputs": [],
   "source": [
    "print(\"Repaired Dynamic:\", partitioning.computeEdgeCut(repairPartition(G, cont, sizelimit, isCharged), G))"
   ]
  },
  {
   "cell_type": "code",
   "execution_count": null,
   "metadata": {
    "collapsed": false
   },
   "outputs": [],
   "source": [
    "len(greedy)"
   ]
  },
  {
   "cell_type": "code",
   "execution_count": null,
   "metadata": {
    "collapsed": false
   },
   "outputs": [],
   "source": [
    "for i in range(len(greedy)):\n",
    "    print(greedy[i])"
   ]
  },
  {
   "cell_type": "code",
   "execution_count": null,
   "metadata": {
    "collapsed": true
   },
   "outputs": [],
   "source": [
    "set(greedy)"
   ]
  },
  {
   "cell_type": "code",
   "execution_count": null,
   "metadata": {
    "collapsed": false
   },
   "outputs": [],
   "source": [
    "partitionValid(G, cont)"
   ]
  },
  {
   "cell_type": "code",
   "execution_count": null,
   "metadata": {
    "collapsed": true
   },
   "outputs": [],
   "source": []
  }
 ],
 "metadata": {
  "kernelspec": {
   "display_name": "Python 3",
   "language": "python",
   "name": "python3"
  },
  "language_info": {
   "codemirror_mode": {
    "name": "ipython",
    "version": 3
   },
   "file_extension": ".py",
   "mimetype": "text/x-python",
   "name": "python",
   "nbconvert_exporter": "python",
   "pygments_lexer": "ipython3",
   "version": "3.4.3"
  }
 },
 "nbformat": 4,
 "nbformat_minor": 0
}
